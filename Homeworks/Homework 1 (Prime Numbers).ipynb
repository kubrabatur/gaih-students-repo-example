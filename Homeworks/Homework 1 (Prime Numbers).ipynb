{
 "cells": [
  {
   "cell_type": "code",
   "execution_count": 268,
   "metadata": {},
   "outputs": [
    {
     "name": "stdout",
     "output_type": "stream",
     "text": [
      "[[41, 59, 31], [83, 67, 73], [37, 67, 89]]\n"
     ]
    }
   ],
   "source": [
    "#Generating a 3x3 matrix with 9 random prime numbers.(You have to do it using the for loop)\n",
    "#Day 2 Homework\n",
    "#Kübra BATUR\n",
    "#Solution 1\n",
    "\n",
    "\n",
    "import random\n",
    "\n",
    "def prime(randomnumber):\n",
    "    counter=0\n",
    "    for i in range(2,randomnumber+1):\n",
    "        if randomnumber % i == 0: \n",
    "            counter += 1\n",
    "    if randomnumber == 2 or counter == 1:\n",
    "       return True\n",
    "    else:\n",
    "       return False\n",
    " \n",
    "def c_random():\n",
    "    \n",
    "    while True:\n",
    "        number = random.randint(1,100)\n",
    "        if prime(number) == True:\n",
    "         break\n",
    "    return number\n",
    "\n",
    "random_array = [[0,0,0],\n",
    "               [0,0,0],\n",
    "               [0,0,0]]\n",
    "\n",
    "for i in range(len(random_array)):\n",
    "    for j in range(len(random_array)):\n",
    "        random_array[i][j] = c_random()\n",
    "    \n",
    "print(random_array)\n",
    "\n"
   ]
  },
  {
   "cell_type": "code",
   "execution_count": null,
   "metadata": {},
   "outputs": [],
   "source": []
  }
 ],
 "metadata": {
  "kernelspec": {
   "display_name": "Python 3",
   "language": "python",
   "name": "python3"
  },
  "language_info": {
   "codemirror_mode": {
    "name": "ipython",
    "version": 3
   },
   "file_extension": ".py",
   "mimetype": "text/x-python",
   "name": "python",
   "nbconvert_exporter": "python",
   "pygments_lexer": "ipython3",
   "version": "3.7.5"
  }
 },
 "nbformat": 4,
 "nbformat_minor": 4
}
